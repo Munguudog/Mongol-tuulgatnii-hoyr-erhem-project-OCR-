{
 "cells": [
  {
   "cell_type": "code",
   "execution_count": null,
   "metadata": {},
   "outputs": [],
   "source": [
    "from PyQt5.QtGui import QPainter, QFont, QColor, QFontDatabase, QImage, QFontMetrics\n",
    "from PyQt5.QtCore import QRect\n",
    "from PyQt5.QtSvg import QSvgGenerator\n",
    "from PyQt5.QtWidgets import QApplication\n",
    "import pandas as pd\n",
    "\n",
    "app = QApplication([]) # 1 l udaa unshuulahgui bol kernel deer error uguud bsn. ugvul restart hiine\n",
    "\n",
    "fonts = [\n",
    "        \"CMDASHITSEDEN5.91.ttf\",\n",
    "        \"MONGOLIANSCRIPT5.91.ttf\",\n",
    "        \"MONGOLIANSYSTEM0.97.ttf\",\n",
    "        \"NotoSansMongolian-Regular.ttf\"\n",
    "]\n",
    "\n",
    "\n",
    "\n",
    "\n"
   ]
  },
  {
   "cell_type": "code",
   "execution_count": 4,
   "metadata": {},
   "outputs": [],
   "source": [
    "my_fonts = [\n",
    "    '../../mongolian-nlp/image2bichig/fonts/Bichimel.ttf',\n",
    "    '../../mongolian-nlp/image2bichig/fonts/Chagan.ttf',\n",
    "    '../../mongolian-nlp/image2bichig/fonts/Garchag.ttf',\n",
    "    '../../mongolian-nlp/image2bichig/fonts/mnglartotf.ttf',\n",
    "    '../../mongolian-nlp/image2bichig/fonts/mngltitleotf.ttf',\n",
    "    '../../mongolian-nlp/image2bichig/fonts/mnglwhiteotf.ttf',\n",
    "    '../../mongolian-nlp/image2bichig/fonts/mnglwritingotf.ttf',\n",
    "    '../../mongolian-nlp/image2bichig/fonts/NotoSansMongolian-Regular.ttf',\n",
    "    '../../mongolian-nlp/image2bichig/fonts/Syurga.ttf',\n",
    "    '../../mongolian-nlp/image2bichig/fonts/Urga.ttf',\n",
    "    \"../fonts/CMDASHITSEDEN5.91.ttf\",\n",
    "    \"../fonts/MONGOLIANSCRIPT5.91.ttf\",\n",
    "    \"../fonts/MONGOLIANSYSTEM0.97.ttf\",\n",
    "    \"../fonts/NotoSansMongolian-Regular.ttf\"\n",
    "]\n"
   ]
  },
  {
   "cell_type": "code",
   "execution_count": 6,
   "metadata": {},
   "outputs": [],
   "source": [
    "def generate_image(path, text, font=\"../fonts/CMDASHITSEDEN5.91.ttf\", font_size = 40):\n",
    "    # font_path = f\"../fonts/{font}\"  # Path to the font file\n",
    "    font_path = font  # Path to the font file\n",
    "    font_id = QFontDatabase.addApplicationFont(font_path)\n",
    "    font_family = QFontDatabase.applicationFontFamilies(font_id)[0]\n",
    "\n",
    "    # Create a QFont object with the loaded font family\n",
    "    font_obj = QFont(font_family, font_size)\n",
    "\n",
    "    # Measure the size of the text using QFontMetrics\n",
    "    font_metrics = QFontMetrics(font_obj)\n",
    "    text_width = font_metrics.horizontalAdvance(text)\n",
    "    text_height = font_metrics.height()\n",
    "\n",
    "    # Add some padding around the text\n",
    "    padding = 20\n",
    "    image_width = text_width + padding * 2\n",
    "    image_height = text_height + padding * 2\n",
    "\n",
    "    # Create the QImage object with the calculated dimensions\n",
    "    image = QImage(image_width, image_height, QImage.Format_ARGB32)\n",
    "    image.fill(QColor(255, 255, 255))  # Set background to white (or transparent)\n",
    "\n",
    "    # Create a painter to draw the text on the image\n",
    "    painter = QPainter(image)\n",
    "    painter.setFont(font_obj)\n",
    "    painter.setPen(QColor(0, 0, 0))  # Set the pen color (black)\n",
    "\n",
    "    # Draw the text, centered in the image\n",
    "    painter.drawText(padding, text_height-padding, text)  # Positioning based on padding\n",
    "    painter.end()\n",
    "\n",
    "    # Save the image as PNG\n",
    "    image.save(path, \"PNG\")"
   ]
  },
  {
   "cell_type": "code",
   "execution_count": 32,
   "metadata": {},
   "outputs": [],
   "source": [
    "path = \"../../dataset/tmp1.png\"\n",
    "generate_image(path, \"ᠮᠣᠨᠭᠭᠣᠯ ᠤᠯᠰ\", my_fonts[13])"
   ]
  },
  {
   "cell_type": "code",
   "execution_count": 29,
   "metadata": {},
   "outputs": [
    {
     "data": {
      "text/plain": [
       "14"
      ]
     },
     "execution_count": 29,
     "metadata": {},
     "output_type": "execute_result"
    }
   ],
   "source": [
    "len(my_fonts)"
   ]
  },
  {
   "cell_type": "code",
   "execution_count": 19,
   "metadata": {},
   "outputs": [
    {
     "name": "stdout",
     "output_type": "stream",
     "text": [
      "../../mongolian-nlp/image2bichig/fonts/Bichimel.ttf\n",
      "../../mongolian-nlp/image2bichig/fonts/Chagan.ttf\n",
      "../../mongolian-nlp/image2bichig/fonts/Garchag.ttf\n",
      "../../mongolian-nlp/image2bichig/fonts/mnglartotf.ttf\n",
      "../../mongolian-nlp/image2bichig/fonts/mngltitleotf.ttf\n",
      "../../mongolian-nlp/image2bichig/fonts/mnglwhiteotf.ttf\n",
      "../../mongolian-nlp/image2bichig/fonts/mnglwritingotf.ttf\n",
      "../../mongolian-nlp/image2bichig/fonts/NotoSansMongolian-Regular.ttf\n",
      "../../mongolian-nlp/image2bichig/fonts/Syurga.ttf\n",
      "../../mongolian-nlp/image2bichig/fonts/Urga.ttf\n",
      "../fonts/CMDASHITSEDEN5.91.ttf\n",
      "../fonts/MONGOLIANSCRIPT5.91.ttf\n",
      "../fonts/MONGOLIANSYSTEM0.97.ttf\n",
      "../fonts/NotoSansMongolian-Regular.ttf\n"
     ]
    }
   ],
   "source": [
    "\n",
    "def generate_comparison_image(path, text, fonts, font_size=40, padding=20):\n",
    "    \"\"\"\n",
    "    Generate an image displaying the given text in multiple fonts for comparison.\n",
    "\n",
    "    :param path: Path to save the generated image.\n",
    "    :param text: Text to render.\n",
    "    :param fonts: List of font file names.\n",
    "    :param font_size: Font size.\n",
    "    :param padding: Padding around each text row.\n",
    "    \"\"\"\n",
    "    # Load fonts and measure text dimensions\n",
    "    font_data = []\n",
    "    max_width = 0\n",
    "    row_height = 0\n",
    "\n",
    "    for font in fonts:\n",
    "        font_path = font\n",
    "        print(font_path)\n",
    "        font_id = QFontDatabase.addApplicationFont(font_path)\n",
    "        font_family = QFontDatabase.applicationFontFamilies(font_id)[0]\n",
    "\n",
    "        font_obj = QFont(font_family, font_size)\n",
    "        font_metrics = QFontMetrics(font_obj)\n",
    "\n",
    "        text_width = font_metrics.horizontalAdvance(text)\n",
    "        text_height = font_metrics.height()\n",
    "\n",
    "        max_width = max(max_width, text_width)\n",
    "        row_height = max(row_height, text_height + padding * 2)  # Ensure consistent row height\n",
    "\n",
    "        font_data.append((font_obj, font_family))\n",
    "\n",
    "    # Calculate final image dimensions\n",
    "    image_width = max_width + padding * 2\n",
    "    image_height = row_height * len(fonts)  # Each font gets one row\n",
    "\n",
    "    # Create the final image\n",
    "    image = QImage(image_width, image_height, QImage.Format_ARGB32)\n",
    "    image.fill(QColor(255, 255, 255))  # White background\n",
    "\n",
    "    painter = QPainter(image)\n",
    "    painter.setPen(QColor(0, 0, 0))  # Black text\n",
    "\n",
    "    # Draw text in each font\n",
    "    for i, (font_obj, font_family) in enumerate(font_data):\n",
    "        y_position = i * row_height + (row_height // 2)  # Center text in row\n",
    "        painter.setFont(font_obj)\n",
    "        painter.drawText(padding, y_position, text)  # Left-aligned with padding\n",
    "\n",
    "    painter.end()\n",
    "    \n",
    "    # Save the final image\n",
    "    image.save(path, \"PNG\")\n",
    "\n",
    "# Example usage\n",
    "generate_comparison_image(\"output.png\", \"ᠤᠲᠠᠰᠤ ᠴᠢᠨᠢ ᠰᠦᠢᠷᠡᠴᠢᠬᠡᠪᠡ\", my_fonts)\n"
   ]
  },
  {
   "cell_type": "code",
   "execution_count": 2,
   "metadata": {},
   "outputs": [],
   "source": [
    "df = pd.read_csv(\"../../dataset/qa.csv\")"
   ]
  },
  {
   "cell_type": "code",
   "execution_count": 12,
   "metadata": {},
   "outputs": [
    {
     "data": {
      "text/html": [
       "<div>\n",
       "<style scoped>\n",
       "    .dataframe tbody tr th:only-of-type {\n",
       "        vertical-align: middle;\n",
       "    }\n",
       "\n",
       "    .dataframe tbody tr th {\n",
       "        vertical-align: top;\n",
       "    }\n",
       "\n",
       "    .dataframe thead th {\n",
       "        text-align: right;\n",
       "    }\n",
       "</style>\n",
       "<table border=\"1\" class=\"dataframe\">\n",
       "  <thead>\n",
       "    <tr style=\"text-align: right;\">\n",
       "      <th></th>\n",
       "      <th>question</th>\n",
       "      <th>answer</th>\n",
       "    </tr>\n",
       "  </thead>\n",
       "  <tbody>\n",
       "    <tr>\n",
       "      <th>0</th>\n",
       "      <td>ᠭᠠᠷ ᠤᠲᠠᠰᠤ ᠴᠢᠨᠢ ᠰᠦᠢᠷᠡᠴᠢᠬᠡᠪᠡ ᠦᠦ ︖</td>\n",
       "      <td>ᠡᠨᠡ ᠭᠠᠷ ᠤᠲᠠᠰᠤ ᠠᠮᠠᠷᠬᠠᠨ ᠰᠦᠢᠷᠡᠨ᠎ᠡ ᠃</td>\n",
       "    </tr>\n",
       "    <tr>\n",
       "      <th>1</th>\n",
       "      <td>ᠪᠢᠳᠡ ᠶᠠᠭᠤᠨ ᠤ ᠤᠴᠢᠷ ᠠᠴᠠ ᠠᠮᠢᠳᠤᠷᠠᠵᠤ ᠪᠠᠢᠬᠤ ᠪᠤᠶ ?</td>\n",
       "      <td>ᠠᠮᠢᠳᠤᠷᠠᠯ ᠪᠤᠯ ᠵᠢᠷᠠᠭᠠᠯ ᠃</td>\n",
       "    </tr>\n",
       "    <tr>\n",
       "      <th>2</th>\n",
       "      <td>ᠪᠦᠯᠦ ᠠᠬ᠎ᠠ ᠱᠧᠨᠶᠠᠩ ᠳᠤ ᠪᠠᠢ᠌ᠭᠰᠠᠭᠠᠷ ᠤᠤ?</td>\n",
       "      <td>ᠲᠡᠢᠮᠦ ᠡ᠂ᠦᠷᠬᠦᠯᠵᠢ ᠡᠨᠳᠡ ᠪᠠᠢᠳᠠᠭ᠃</td>\n",
       "    </tr>\n",
       "    <tr>\n",
       "      <th>3</th>\n",
       "      <td>ᠴᠢ ᠬᠠᠷᠢᠵᠤ ᠢᠷᠡᠬᠦ ᠭᠡᠵᠤ ᠪᠠᠢᠨ᠎ᠠ ᠦᠦ?</td>\n",
       "      <td>ᠲᠡᠶᠢᠮᠦ᠃ ᠬᠠᠷᠢᠵᠤ ᠢᠷᠡᠭᠡᠳ ᠬᠡᠳᠦᠨ ᠡᠳᠦᠷ ᠰᠠᠭᠤᠬᠤ ᠭᠡᠵᠦ ᠪ...</td>\n",
       "    </tr>\n",
       "    <tr>\n",
       "      <th>4</th>\n",
       "      <td>ᠲᠠᠨ ᠤ ᠳᠡᠯᠭᠡᠭᠦᠷ ᠲᠦ ᠲᠤᠰᠬᠠᠶᠢᠯᠠᠨ ᠥᠨᠳᠡᠭᠡ ᠲᠡᠶ ᠪᠣᠭᠣᠷᠰ...</td>\n",
       "      <td>ᠪᠢᠳᠡ ᠭᠠᠭᠴᠠ ᠥᠨᠳᠡᠭᠡᠨ ᠪᠣᠭᠣᠷᠰᠣᠭ ᠬᠤᠳᠠᠯᠳᠤᠳᠠᠭ ᠂ ᠠᠮᠲᠠᠯ...</td>\n",
       "    </tr>\n",
       "    <tr>\n",
       "      <th>...</th>\n",
       "      <td>...</td>\n",
       "      <td>...</td>\n",
       "    </tr>\n",
       "    <tr>\n",
       "      <th>49995</th>\n",
       "      <td>ᠴᠢ ᠵᠠᠯᠠᠭᠤᠴᠤᠳ ᠤᠨ ᠵᠣᠬᠢᠶᠠᠯ ᠢ ᠦᠵᠡᠵᠦ ᠥᠩᠭᠡᠷᠡᠪᠡ  ᠦᠦ</td>\n",
       "      <td>ᠦᠭᠡᠢ ᠰᠢᠸ᠂ ᠴᠢ ᠦᠵᠡᠵᠦ ᠥᠩᠭᠡᠷᠡᠭᠰᠡᠨ  ᠦᠦ</td>\n",
       "    </tr>\n",
       "    <tr>\n",
       "      <th>49996</th>\n",
       "      <td>ᠪᠢᠳᠡ ᠮᠠᠤ ᠲᠡᠷᠢᠭᠦᠯᠡᠭᠴᠢ ᠳᠦ ᠪᠠᠶᠠᠷ ᠬᠦᠷᠭᠡᠶ᠎ᠡ᠃</td>\n",
       "      <td>ᠬᠤᠪᠢᠰᠬᠠᠯ ᠤᠨ ᠪᠠᠭᠠᠲᠤᠷ ᠮᠥᠨ ᠰᠢᠸ ᠳ᠋ᠡ! ᠪᠢᠳᠡ ᠲᠡᠭᠦᠨ ᠡᠴ...</td>\n",
       "    </tr>\n",
       "    <tr>\n",
       "      <th>49997</th>\n",
       "      <td>ᠠᠮᠧᠷᠢᠺᠠ ᠶᠢᠨ ᠬᠥᠭᠵᠢᠮ ᠦᠨ ᠸᠠᠩ ᠳᠤ ᠳᠤᠷᠠᠲᠠᠢ</td>\n",
       "      <td>ᠲᠤᠩ ᠬᠥᠭᠡᠷᠦᠬᠦᠨ ᠬᠡᠦᠬᠡᠨ᠂ ᠲᠡᠭᠦᠨ ᠢ ᠲᠣᠭᠣᠭᠠᠳ ᠤᠳᠠᠪᠠ</td>\n",
       "    </tr>\n",
       "    <tr>\n",
       "      <th>49998</th>\n",
       "      <td>ᠴᠢ ᠭᠢᠰᠬᠢᠭᠦᠷ ᠲᠡᠷᠭᠡ ᠨᠠᠭᠠᠳᠬᠤ ᠳᠤᠷᠠᠲᠠᠢ  ᠦᠦ</td>\n",
       "      <td>ᠵᠠ ᠂ ᠶᠡᠬᠡ ᠵᠦᠭᠡᠷ ᠰᠢᠸ ᠂ ᠪᠢ ᠳᠤᠷᠠᠲᠠᠶ</td>\n",
       "    </tr>\n",
       "    <tr>\n",
       "      <th>49999</th>\n",
       "      <td>ᠥᠨᠥᠳᠦᠷ ᠦᠨ ᠰᠠᠷᠠ ᠦᠨᠡᠬᠡᠷ ᠭᠤᠶᠤ ᠳ᠋ᠠ</td>\n",
       "      <td>ᠥᠨᠥᠳᠦᠷ ᠦᠨ ᠰᠠᠷᠠ ᠦᠨᠡᠬᠡᠷ ᠲᠥᠭᠥᠷᠢᠭ ᠳ᠋ᠡ</td>\n",
       "    </tr>\n",
       "  </tbody>\n",
       "</table>\n",
       "<p>50000 rows × 2 columns</p>\n",
       "</div>"
      ],
      "text/plain": [
       "                                                question  \\\n",
       "0                        ᠭᠠᠷ ᠤᠲᠠᠰᠤ ᠴᠢᠨᠢ ᠰᠦᠢᠷᠡᠴᠢᠬᠡᠪᠡ ᠦᠦ ︖   \n",
       "1            ᠪᠢᠳᠡ ᠶᠠᠭᠤᠨ ᠤ ᠤᠴᠢᠷ ᠠᠴᠠ ᠠᠮᠢᠳᠤᠷᠠᠵᠤ ᠪᠠᠢᠬᠤ ᠪᠤᠶ ?   \n",
       "2                     ᠪᠦᠯᠦ ᠠᠬ᠎ᠠ ᠱᠧᠨᠶᠠᠩ ᠳᠤ ᠪᠠᠢ᠌ᠭᠰᠠᠭᠠᠷ ᠤᠤ?   \n",
       "3                        ᠴᠢ ᠬᠠᠷᠢᠵᠤ ᠢᠷᠡᠬᠦ ᠭᠡᠵᠤ ᠪᠠᠢᠨ᠎ᠠ ᠦᠦ?   \n",
       "4      ᠲᠠᠨ ᠤ ᠳᠡᠯᠭᠡᠭᠦᠷ ᠲᠦ ᠲᠤᠰᠬᠠᠶᠢᠯᠠᠨ ᠥᠨᠳᠡᠭᠡ ᠲᠡᠶ ᠪᠣᠭᠣᠷᠰ...   \n",
       "...                                                  ...   \n",
       "49995       ᠴᠢ ᠵᠠᠯᠠᠭᠤᠴᠤᠳ ᠤᠨ ᠵᠣᠬᠢᠶᠠᠯ ᠢ ᠦᠵᠡᠵᠦ ᠥᠩᠭᠡᠷᠡᠪᠡ  ᠦᠦ   \n",
       "49996            ᠪᠢᠳᠡ ᠮᠠᠤ ᠲᠡᠷᠢᠭᠦᠯᠡᠭᠴᠢ ᠳᠦ ᠪᠠᠶᠠᠷ ᠬᠦᠷᠭᠡᠶ᠎ᠡ᠃   \n",
       "49997               ᠠᠮᠧᠷᠢᠺᠠ ᠶᠢᠨ ᠬᠥᠭᠵᠢᠮ ᠦᠨ ᠸᠠᠩ ᠳᠤ ᠳᠤᠷᠠᠲᠠᠢ   \n",
       "49998              ᠴᠢ ᠭᠢᠰᠬᠢᠭᠦᠷ ᠲᠡᠷᠭᠡ ᠨᠠᠭᠠᠳᠬᠤ ᠳᠤᠷᠠᠲᠠᠢ  ᠦᠦ   \n",
       "49999                     ᠥᠨᠥᠳᠦᠷ ᠦᠨ ᠰᠠᠷᠠ ᠦᠨᠡᠬᠡᠷ ᠭᠤᠶᠤ ᠳ᠋ᠠ   \n",
       "\n",
       "                                                  answer  \n",
       "0                      ᠡᠨᠡ ᠭᠠᠷ ᠤᠲᠠᠰᠤ ᠠᠮᠠᠷᠬᠠᠨ ᠰᠦᠢᠷᠡᠨ᠎ᠡ ᠃   \n",
       "1                                 ᠠᠮᠢᠳᠤᠷᠠᠯ ᠪᠤᠯ ᠵᠢᠷᠠᠭᠠᠯ ᠃  \n",
       "2                           ᠲᠡᠢᠮᠦ ᠡ᠂ᠦᠷᠬᠦᠯᠵᠢ ᠡᠨᠳᠡ ᠪᠠᠢᠳᠠᠭ᠃  \n",
       "3      ᠲᠡᠶᠢᠮᠦ᠃ ᠬᠠᠷᠢᠵᠤ ᠢᠷᠡᠭᠡᠳ ᠬᠡᠳᠦᠨ ᠡᠳᠦᠷ ᠰᠠᠭᠤᠬᠤ ᠭᠡᠵᠦ ᠪ...  \n",
       "4      ᠪᠢᠳᠡ ᠭᠠᠭᠴᠠ ᠥᠨᠳᠡᠭᠡᠨ ᠪᠣᠭᠣᠷᠰᠣᠭ ᠬᠤᠳᠠᠯᠳᠤᠳᠠᠭ ᠂ ᠠᠮᠲᠠᠯ...  \n",
       "...                                                  ...  \n",
       "49995                  ᠦᠭᠡᠢ ᠰᠢᠸ᠂ ᠴᠢ ᠦᠵᠡᠵᠦ ᠥᠩᠭᠡᠷᠡᠭᠰᠡᠨ  ᠦᠦ  \n",
       "49996  ᠬᠤᠪᠢᠰᠬᠠᠯ ᠤᠨ ᠪᠠᠭᠠᠲᠤᠷ ᠮᠥᠨ ᠰᠢᠸ ᠳ᠋ᠡ! ᠪᠢᠳᠡ ᠲᠡᠭᠦᠨ ᠡᠴ...  \n",
       "49997        ᠲᠤᠩ ᠬᠥᠭᠡᠷᠦᠬᠦᠨ ᠬᠡᠦᠬᠡᠨ᠂ ᠲᠡᠭᠦᠨ ᠢ ᠲᠣᠭᠣᠭᠠᠳ ᠤᠳᠠᠪᠠ  \n",
       "49998                   ᠵᠠ ᠂ ᠶᠡᠬᠡ ᠵᠦᠭᠡᠷ ᠰᠢᠸ ᠂ ᠪᠢ ᠳᠤᠷᠠᠲᠠᠶ  \n",
       "49999                  ᠥᠨᠥᠳᠦᠷ ᠦᠨ ᠰᠠᠷᠠ ᠦᠨᠡᠬᠡᠷ ᠲᠥᠭᠥᠷᠢᠭ ᠳ᠋ᠡ  \n",
       "\n",
       "[50000 rows x 2 columns]"
      ]
     },
     "execution_count": 12,
     "metadata": {},
     "output_type": "execute_result"
    }
   ],
   "source": [
    "df"
   ]
  },
  {
   "cell_type": "code",
   "execution_count": 50,
   "metadata": {},
   "outputs": [
    {
     "name": "stdout",
     "output_type": "stream",
     "text": [
      "0 out of 100\n",
      "10 out of 100\n",
      "20 out of 100\n",
      "30 out of 100\n",
      "40 out of 100\n",
      "50 out of 100\n",
      "60 out of 100\n",
      "70 out of 100\n",
      "80 out of 100\n",
      "90 out of 100\n"
     ]
    }
   ],
   "source": [
    "s=0\n",
    "for index, row in df.iterrows():\n",
    "    if(index%10==0):\n",
    "        print(f\"{index} out of 100\")\n",
    "    text = row['question']\n",
    "    path = path = f\"../dataset/mini_qa_images/question/{index}.png\"\n",
    "    generate_image(path, text, fonts[3])\n",
    "    text = row['answer']\n",
    "    path = path = f\"../dataset/mini_qa_images/answer/{index}.png\"\n",
    "    generate_image(path, text, fonts[3])\n"
   ]
  },
  {
   "cell_type": "code",
   "execution_count": 43,
   "metadata": {},
   "outputs": [],
   "source": [
    "# df.columns = [\"question\", \"answer\"]\n",
    "mini = df.head(100)"
   ]
  },
  {
   "cell_type": "code",
   "execution_count": 44,
   "metadata": {},
   "outputs": [],
   "source": [
    "mini.to_csv(\"../dataset/mini_qa.csv\")"
   ]
  },
  {
   "cell_type": "code",
   "execution_count": null,
   "metadata": {},
   "outputs": [],
   "source": [
    "ᠭᠠᠷ ᠤᠲᠠᠰᠤ ᠴᠢᠨᠢ ᠰᠦᠢᠷᠡᠴᠢᠬᠡᠪᠡ ᠦᠦ ︖\n",
    "ᠪᠢᠳᠡ ᠶᠠᠭᠤᠨ ᠤ ᠤᠴᠢᠷ ᠠᠴᠠ ᠠᠮᠢᠳᠤᠷᠠᠵᠤ ᠪᠠᠢᠬᠤ ᠪᠤᠶ ?"
   ]
  },
  {
   "cell_type": "code",
   "execution_count": 3,
   "metadata": {},
   "outputs": [],
   "source": [
    "import os\n",
    "import json\n",
    "import random\n",
    "import pandas as pd\n",
    "import matplotlib.pyplot as plt\n",
    "from collections import Counter\n",
    "import uuid"
   ]
  },
  {
   "cell_type": "code",
   "execution_count": 34,
   "metadata": {},
   "outputs": [
    {
     "name": "stdout",
     "output_type": "stream",
     "text": [
      "Saved metadata to ../../dataset/qa_words\\data.json\n"
     ]
    }
   ],
   "source": [
    "output_dir = \"../../dataset/qa_words\"\n",
    "os.makedirs(output_dir, exist_ok=True)\n",
    "data = []\n",
    "df = pd.read_csv(\"../../dataset/qa.csv\")\n",
    "for idx, row in df.iterrows():\n",
    "    if len(data)>10000:\n",
    "        break\n",
    "    for column in [\"question\", \"answer\"]:\n",
    "        words = row[column].split()\n",
    "        \n",
    "        for word in words:\n",
    "            if len(word) >= 5:\n",
    "                # selected_fonts = random.sample(my_fonts, min(3, len(my_fonts)))\n",
    "                selected_fonts=[my_fonts[13]]\n",
    "                for font in selected_fonts:\n",
    "                    image_name = f\"{uuid.uuid4().hex}.png\"\n",
    "                    image_path = os.path.join(output_dir, image_name)\n",
    "                    \n",
    "                    generate_image(image_path, word, font, 40)\n",
    "                    \n",
    "                    data.append({\n",
    "                        \"image_path\": image_path,\n",
    "                        \"label\": word,\n",
    "                        \"font\": font\n",
    "                    })\n",
    "\n",
    "json_path = os.path.join(output_dir, \"data.json\")\n",
    "with open(json_path, \"w\", encoding=\"utf-8\") as f:\n",
    "    json.dump(data, f, ensure_ascii=False, indent=4)\n",
    "\n",
    "print(f\"Saved metadata to {json_path}\")\n"
   ]
  },
  {
   "cell_type": "code",
   "execution_count": 10,
   "metadata": {},
   "outputs": [
    {
     "data": {
      "text/plain": [
       "['../../mongolian-nlp/image2bichig/fonts/Bichimel.ttf',\n",
       " '../../mongolian-nlp/image2bichig/fonts/Syurga.ttf',\n",
       " '../../mongolian-nlp/image2bichig/fonts/mnglwritingotf.ttf']"
      ]
     },
     "execution_count": 10,
     "metadata": {},
     "output_type": "execute_result"
    }
   ],
   "source": [
    "random.sample(my_fonts, min(3, len(my_fonts)))"
   ]
  },
  {
   "cell_type": "code",
   "execution_count": 4,
   "metadata": {},
   "outputs": [],
   "source": [
    "def plot_character_distribution(json_path):\n",
    "    with open(json_path, \"r\", encoding=\"utf-8\") as f:\n",
    "        data = json.load(f)\n",
    "    \n",
    "    char_counts = Counter()\n",
    "    for entry in data:\n",
    "        char_counts.update(entry[\"label\"])\n",
    "    \n",
    "    chars, counts = zip(*char_counts.items())\n",
    "    \n",
    "    plt.figure(figsize=(12, 6))\n",
    "    plt.bar(chars, counts)\n",
    "    plt.xlabel(\"Characters\")\n",
    "    plt.ylabel(\"Frequency\")\n",
    "    plt.title(\"Character Frequency in Labels\")\n",
    "    plt.xticks(rotation=90)\n",
    "    plt.show()\n",
    "    \n",
    "    return char_counts"
   ]
  },
  {
   "cell_type": "code",
   "execution_count": 6,
   "metadata": {},
   "outputs": [
    {
     "name": "stderr",
     "output_type": "stream",
     "text": [
      "<>:1: SyntaxWarning: invalid escape sequence '\\d'\n",
      "<>:1: SyntaxWarning: invalid escape sequence '\\d'\n",
      "C:\\Users\\adiya\\AppData\\Local\\Temp\\ipykernel_2776\\1213786293.py:1: SyntaxWarning: invalid escape sequence '\\d'\n",
      "  c = plot_character_distribution(\"../../dataset/qa_words\\data.json\")\n",
      "c:\\Users\\adiya\\miniconda3\\envs\\mn-ocr\\Lib\\site-packages\\IPython\\core\\pylabtools.py:170: UserWarning: Glyph 6180 (\\N{MONGOLIAN LETTER U}) missing from font(s) DejaVu Sans.\n",
      "  fig.canvas.print_figure(bytes_io, **kw)\n",
      "c:\\Users\\adiya\\miniconda3\\envs\\mn-ocr\\Lib\\site-packages\\IPython\\core\\pylabtools.py:170: UserWarning: Glyph 6194 (\\N{MONGOLIAN LETTER TA}) missing from font(s) DejaVu Sans.\n",
      "  fig.canvas.print_figure(bytes_io, **kw)\n",
      "c:\\Users\\adiya\\miniconda3\\envs\\mn-ocr\\Lib\\site-packages\\IPython\\core\\pylabtools.py:170: UserWarning: Glyph 6176 (\\N{MONGOLIAN LETTER A}) missing from font(s) DejaVu Sans.\n",
      "  fig.canvas.print_figure(bytes_io, **kw)\n",
      "c:\\Users\\adiya\\miniconda3\\envs\\mn-ocr\\Lib\\site-packages\\IPython\\core\\pylabtools.py:170: UserWarning: Glyph 6192 (\\N{MONGOLIAN LETTER SA}) missing from font(s) DejaVu Sans.\n",
      "  fig.canvas.print_figure(bytes_io, **kw)\n",
      "c:\\Users\\adiya\\miniconda3\\envs\\mn-ocr\\Lib\\site-packages\\IPython\\core\\pylabtools.py:170: UserWarning: Glyph 6182 (\\N{MONGOLIAN LETTER UE}) missing from font(s) DejaVu Sans.\n",
      "  fig.canvas.print_figure(bytes_io, **kw)\n",
      "c:\\Users\\adiya\\miniconda3\\envs\\mn-ocr\\Lib\\site-packages\\IPython\\core\\pylabtools.py:170: UserWarning: Glyph 6178 (\\N{MONGOLIAN LETTER I}) missing from font(s) DejaVu Sans.\n",
      "  fig.canvas.print_figure(bytes_io, **kw)\n",
      "c:\\Users\\adiya\\miniconda3\\envs\\mn-ocr\\Lib\\site-packages\\IPython\\core\\pylabtools.py:170: UserWarning: Glyph 6199 (\\N{MONGOLIAN LETTER RA}) missing from font(s) DejaVu Sans.\n",
      "  fig.canvas.print_figure(bytes_io, **kw)\n",
      "c:\\Users\\adiya\\miniconda3\\envs\\mn-ocr\\Lib\\site-packages\\IPython\\core\\pylabtools.py:170: UserWarning: Glyph 6177 (\\N{MONGOLIAN LETTER E}) missing from font(s) DejaVu Sans.\n",
      "  fig.canvas.print_figure(bytes_io, **kw)\n",
      "c:\\Users\\adiya\\miniconda3\\envs\\mn-ocr\\Lib\\site-packages\\IPython\\core\\pylabtools.py:170: UserWarning: Glyph 6196 (\\N{MONGOLIAN LETTER CHA}) missing from font(s) DejaVu Sans.\n",
      "  fig.canvas.print_figure(bytes_io, **kw)\n",
      "c:\\Users\\adiya\\miniconda3\\envs\\mn-ocr\\Lib\\site-packages\\IPython\\core\\pylabtools.py:170: UserWarning: Glyph 6188 (\\N{MONGOLIAN LETTER QA}) missing from font(s) DejaVu Sans.\n",
      "  fig.canvas.print_figure(bytes_io, **kw)\n",
      "c:\\Users\\adiya\\miniconda3\\envs\\mn-ocr\\Lib\\site-packages\\IPython\\core\\pylabtools.py:170: UserWarning: Glyph 6186 (\\N{MONGOLIAN LETTER BA}) missing from font(s) DejaVu Sans.\n",
      "  fig.canvas.print_figure(bytes_io, **kw)\n",
      "c:\\Users\\adiya\\miniconda3\\envs\\mn-ocr\\Lib\\site-packages\\IPython\\core\\pylabtools.py:170: UserWarning: Glyph 6190 (\\N{MONGOLIAN LETTER MA}) missing from font(s) DejaVu Sans.\n",
      "  fig.canvas.print_figure(bytes_io, **kw)\n",
      "c:\\Users\\adiya\\miniconda3\\envs\\mn-ocr\\Lib\\site-packages\\IPython\\core\\pylabtools.py:170: UserWarning: Glyph 6184 (\\N{MONGOLIAN LETTER NA}) missing from font(s) DejaVu Sans.\n",
      "  fig.canvas.print_figure(bytes_io, **kw)\n",
      "c:\\Users\\adiya\\miniconda3\\envs\\mn-ocr\\Lib\\site-packages\\IPython\\core\\pylabtools.py:170: UserWarning: Glyph 6158 (\\N{MONGOLIAN VOWEL SEPARATOR}) missing from font(s) DejaVu Sans.\n",
      "  fig.canvas.print_figure(bytes_io, **kw)\n",
      "c:\\Users\\adiya\\miniconda3\\envs\\mn-ocr\\Lib\\site-packages\\IPython\\core\\pylabtools.py:170: UserWarning: Glyph 6198 (\\N{MONGOLIAN LETTER YA}) missing from font(s) DejaVu Sans.\n",
      "  fig.canvas.print_figure(bytes_io, **kw)\n",
      "c:\\Users\\adiya\\miniconda3\\envs\\mn-ocr\\Lib\\site-packages\\IPython\\core\\pylabtools.py:170: UserWarning: Glyph 6189 (\\N{MONGOLIAN LETTER GA}) missing from font(s) DejaVu Sans.\n",
      "  fig.canvas.print_figure(bytes_io, **kw)\n",
      "c:\\Users\\adiya\\miniconda3\\envs\\mn-ocr\\Lib\\site-packages\\IPython\\core\\pylabtools.py:170: UserWarning: Glyph 6195 (\\N{MONGOLIAN LETTER DA}) missing from font(s) DejaVu Sans.\n",
      "  fig.canvas.print_figure(bytes_io, **kw)\n",
      "c:\\Users\\adiya\\miniconda3\\envs\\mn-ocr\\Lib\\site-packages\\IPython\\core\\pylabtools.py:170: UserWarning: Glyph 6197 (\\N{MONGOLIAN LETTER JA}) missing from font(s) DejaVu Sans.\n",
      "  fig.canvas.print_figure(bytes_io, **kw)\n",
      "c:\\Users\\adiya\\miniconda3\\envs\\mn-ocr\\Lib\\site-packages\\IPython\\core\\pylabtools.py:170: UserWarning: Glyph 6191 (\\N{MONGOLIAN LETTER LA}) missing from font(s) DejaVu Sans.\n",
      "  fig.canvas.print_figure(bytes_io, **kw)\n",
      "c:\\Users\\adiya\\miniconda3\\envs\\mn-ocr\\Lib\\site-packages\\IPython\\core\\pylabtools.py:170: UserWarning: Glyph 6193 (\\N{MONGOLIAN LETTER SHA}) missing from font(s) DejaVu Sans.\n",
      "  fig.canvas.print_figure(bytes_io, **kw)\n",
      "c:\\Users\\adiya\\miniconda3\\envs\\mn-ocr\\Lib\\site-packages\\IPython\\core\\pylabtools.py:170: UserWarning: Glyph 6183 (\\N{MONGOLIAN LETTER EE}) missing from font(s) DejaVu Sans.\n",
      "  fig.canvas.print_figure(bytes_io, **kw)\n",
      "c:\\Users\\adiya\\miniconda3\\envs\\mn-ocr\\Lib\\site-packages\\IPython\\core\\pylabtools.py:170: UserWarning: Glyph 6185 (\\N{MONGOLIAN LETTER ANG}) missing from font(s) DejaVu Sans.\n",
      "  fig.canvas.print_figure(bytes_io, **kw)\n",
      "c:\\Users\\adiya\\miniconda3\\envs\\mn-ocr\\Lib\\site-packages\\IPython\\core\\pylabtools.py:170: UserWarning: Glyph 6156 (\\N{MONGOLIAN FREE VARIATION SELECTOR TWO}) missing from font(s) DejaVu Sans.\n",
      "  fig.canvas.print_figure(bytes_io, **kw)\n",
      "c:\\Users\\adiya\\miniconda3\\envs\\mn-ocr\\Lib\\site-packages\\IPython\\core\\pylabtools.py:170: UserWarning: Glyph 6146 (\\N{MONGOLIAN COMMA}) missing from font(s) DejaVu Sans.\n",
      "  fig.canvas.print_figure(bytes_io, **kw)\n",
      "c:\\Users\\adiya\\miniconda3\\envs\\mn-ocr\\Lib\\site-packages\\IPython\\core\\pylabtools.py:170: UserWarning: Glyph 6147 (\\N{MONGOLIAN FULL STOP}) missing from font(s) DejaVu Sans.\n",
      "  fig.canvas.print_figure(bytes_io, **kw)\n",
      "c:\\Users\\adiya\\miniconda3\\envs\\mn-ocr\\Lib\\site-packages\\IPython\\core\\pylabtools.py:170: UserWarning: Glyph 6181 (\\N{MONGOLIAN LETTER OE}) missing from font(s) DejaVu Sans.\n",
      "  fig.canvas.print_figure(bytes_io, **kw)\n",
      "c:\\Users\\adiya\\miniconda3\\envs\\mn-ocr\\Lib\\site-packages\\IPython\\core\\pylabtools.py:170: UserWarning: Glyph 6179 (\\N{MONGOLIAN LETTER O}) missing from font(s) DejaVu Sans.\n",
      "  fig.canvas.print_figure(bytes_io, **kw)\n",
      "c:\\Users\\adiya\\miniconda3\\envs\\mn-ocr\\Lib\\site-packages\\IPython\\core\\pylabtools.py:170: UserWarning: Glyph 6157 (\\N{MONGOLIAN FREE VARIATION SELECTOR THREE}) missing from font(s) DejaVu Sans.\n",
      "  fig.canvas.print_figure(bytes_io, **kw)\n",
      "c:\\Users\\adiya\\miniconda3\\envs\\mn-ocr\\Lib\\site-packages\\IPython\\core\\pylabtools.py:170: UserWarning: Glyph 6155 (\\N{MONGOLIAN FREE VARIATION SELECTOR ONE}) missing from font(s) DejaVu Sans.\n",
      "  fig.canvas.print_figure(bytes_io, **kw)\n",
      "c:\\Users\\adiya\\miniconda3\\envs\\mn-ocr\\Lib\\site-packages\\IPython\\core\\pylabtools.py:170: UserWarning: Glyph 65046 (\\N{PRESENTATION FORM FOR VERTICAL QUESTION MARK}) missing from font(s) DejaVu Sans.\n",
      "  fig.canvas.print_figure(bytes_io, **kw)\n",
      "c:\\Users\\adiya\\miniconda3\\envs\\mn-ocr\\Lib\\site-packages\\IPython\\core\\pylabtools.py:170: UserWarning: Glyph 6201 (\\N{MONGOLIAN LETTER FA}) missing from font(s) DejaVu Sans.\n",
      "  fig.canvas.print_figure(bytes_io, **kw)\n",
      "c:\\Users\\adiya\\miniconda3\\envs\\mn-ocr\\Lib\\site-packages\\IPython\\core\\pylabtools.py:170: UserWarning: Glyph 6187 (\\N{MONGOLIAN LETTER PA}) missing from font(s) DejaVu Sans.\n",
      "  fig.canvas.print_figure(bytes_io, **kw)\n",
      "c:\\Users\\adiya\\miniconda3\\envs\\mn-ocr\\Lib\\site-packages\\IPython\\core\\pylabtools.py:170: UserWarning: Glyph 6200 (\\N{MONGOLIAN LETTER WA}) missing from font(s) DejaVu Sans.\n",
      "  fig.canvas.print_figure(bytes_io, **kw)\n",
      "c:\\Users\\adiya\\miniconda3\\envs\\mn-ocr\\Lib\\site-packages\\IPython\\core\\pylabtools.py:170: UserWarning: Glyph 6202 (\\N{MONGOLIAN LETTER KA}) missing from font(s) DejaVu Sans.\n",
      "  fig.canvas.print_figure(bytes_io, **kw)\n",
      "c:\\Users\\adiya\\miniconda3\\envs\\mn-ocr\\Lib\\site-packages\\IPython\\core\\pylabtools.py:170: UserWarning: Glyph 58064 (\\ue2d0) missing from font(s) DejaVu Sans.\n",
      "  fig.canvas.print_figure(bytes_io, **kw)\n",
      "c:\\Users\\adiya\\miniconda3\\envs\\mn-ocr\\Lib\\site-packages\\IPython\\core\\pylabtools.py:170: UserWarning: Glyph 57975 (\\ue277) missing from font(s) DejaVu Sans.\n",
      "  fig.canvas.print_figure(bytes_io, **kw)\n",
      "c:\\Users\\adiya\\miniconda3\\envs\\mn-ocr\\Lib\\site-packages\\IPython\\core\\pylabtools.py:170: UserWarning: Glyph 58141 (\\ue31d) missing from font(s) DejaVu Sans.\n",
      "  fig.canvas.print_figure(bytes_io, **kw)\n",
      "c:\\Users\\adiya\\miniconda3\\envs\\mn-ocr\\Lib\\site-packages\\IPython\\core\\pylabtools.py:170: UserWarning: Glyph 57982 (\\ue27e) missing from font(s) DejaVu Sans.\n",
      "  fig.canvas.print_figure(bytes_io, **kw)\n",
      "c:\\Users\\adiya\\miniconda3\\envs\\mn-ocr\\Lib\\site-packages\\IPython\\core\\pylabtools.py:170: UserWarning: Glyph 58143 (\\ue31f) missing from font(s) DejaVu Sans.\n",
      "  fig.canvas.print_figure(bytes_io, **kw)\n",
      "c:\\Users\\adiya\\miniconda3\\envs\\mn-ocr\\Lib\\site-packages\\IPython\\core\\pylabtools.py:170: UserWarning: Glyph 57972 (\\ue274) missing from font(s) DejaVu Sans.\n",
      "  fig.canvas.print_figure(bytes_io, **kw)\n",
      "c:\\Users\\adiya\\miniconda3\\envs\\mn-ocr\\Lib\\site-packages\\IPython\\core\\pylabtools.py:170: UserWarning: Glyph 57978 (\\ue27a) missing from font(s) DejaVu Sans.\n",
      "  fig.canvas.print_figure(bytes_io, **kw)\n",
      "c:\\Users\\adiya\\miniconda3\\envs\\mn-ocr\\Lib\\site-packages\\IPython\\core\\pylabtools.py:170: UserWarning: Glyph 58150 (\\ue326) missing from font(s) DejaVu Sans.\n",
      "  fig.canvas.print_figure(bytes_io, **kw)\n",
      "c:\\Users\\adiya\\miniconda3\\envs\\mn-ocr\\Lib\\site-packages\\IPython\\core\\pylabtools.py:170: UserWarning: Glyph 57974 (\\ue276) missing from font(s) DejaVu Sans.\n",
      "  fig.canvas.print_figure(bytes_io, **kw)\n",
      "c:\\Users\\adiya\\miniconda3\\envs\\mn-ocr\\Lib\\site-packages\\IPython\\core\\pylabtools.py:170: UserWarning: Glyph 58077 (\\ue2dd) missing from font(s) DejaVu Sans.\n",
      "  fig.canvas.print_figure(bytes_io, **kw)\n",
      "c:\\Users\\adiya\\miniconda3\\envs\\mn-ocr\\Lib\\site-packages\\IPython\\core\\pylabtools.py:170: UserWarning: Glyph 58023 (\\ue2a7) missing from font(s) DejaVu Sans.\n",
      "  fig.canvas.print_figure(bytes_io, **kw)\n",
      "c:\\Users\\adiya\\miniconda3\\envs\\mn-ocr\\Lib\\site-packages\\IPython\\core\\pylabtools.py:170: UserWarning: Glyph 65311 (\\N{FULLWIDTH QUESTION MARK}) missing from font(s) DejaVu Sans.\n",
      "  fig.canvas.print_figure(bytes_io, **kw)\n",
      "c:\\Users\\adiya\\miniconda3\\envs\\mn-ocr\\Lib\\site-packages\\IPython\\core\\pylabtools.py:170: UserWarning: Glyph 57958 (\\ue266) missing from font(s) DejaVu Sans.\n",
      "  fig.canvas.print_figure(bytes_io, **kw)\n",
      "c:\\Users\\adiya\\miniconda3\\envs\\mn-ocr\\Lib\\site-packages\\IPython\\core\\pylabtools.py:170: UserWarning: Glyph 58151 (\\ue327) missing from font(s) DejaVu Sans.\n",
      "  fig.canvas.print_figure(bytes_io, **kw)\n",
      "c:\\Users\\adiya\\miniconda3\\envs\\mn-ocr\\Lib\\site-packages\\IPython\\core\\pylabtools.py:170: UserWarning: Glyph 58074 (\\ue2da) missing from font(s) DejaVu Sans.\n",
      "  fig.canvas.print_figure(bytes_io, **kw)\n",
      "c:\\Users\\adiya\\miniconda3\\envs\\mn-ocr\\Lib\\site-packages\\IPython\\core\\pylabtools.py:170: UserWarning: Glyph 57980 (\\ue27c) missing from font(s) DejaVu Sans.\n",
      "  fig.canvas.print_figure(bytes_io, **kw)\n",
      "c:\\Users\\adiya\\miniconda3\\envs\\mn-ocr\\Lib\\site-packages\\IPython\\core\\pylabtools.py:170: UserWarning: Glyph 6204 (\\N{MONGOLIAN LETTER TSA}) missing from font(s) DejaVu Sans.\n",
      "  fig.canvas.print_figure(bytes_io, **kw)\n",
      "c:\\Users\\adiya\\miniconda3\\envs\\mn-ocr\\Lib\\site-packages\\IPython\\core\\pylabtools.py:170: UserWarning: Glyph 58133 (\\ue315) missing from font(s) DejaVu Sans.\n",
      "  fig.canvas.print_figure(bytes_io, **kw)\n",
      "c:\\Users\\adiya\\miniconda3\\envs\\mn-ocr\\Lib\\site-packages\\IPython\\core\\pylabtools.py:170: UserWarning: Glyph 57979 (\\ue27b) missing from font(s) DejaVu Sans.\n",
      "  fig.canvas.print_figure(bytes_io, **kw)\n",
      "c:\\Users\\adiya\\miniconda3\\envs\\mn-ocr\\Lib\\site-packages\\IPython\\core\\pylabtools.py:170: UserWarning: Glyph 57964 (\\ue26c) missing from font(s) DejaVu Sans.\n",
      "  fig.canvas.print_figure(bytes_io, **kw)\n",
      "c:\\Users\\adiya\\miniconda3\\envs\\mn-ocr\\Lib\\site-packages\\IPython\\core\\pylabtools.py:170: UserWarning: Glyph 58152 (\\ue328) missing from font(s) DejaVu Sans.\n",
      "  fig.canvas.print_figure(bytes_io, **kw)\n",
      "c:\\Users\\adiya\\miniconda3\\envs\\mn-ocr\\Lib\\site-packages\\IPython\\core\\pylabtools.py:170: UserWarning: Glyph 58090 (\\ue2ea) missing from font(s) DejaVu Sans.\n",
      "  fig.canvas.print_figure(bytes_io, **kw)\n",
      "c:\\Users\\adiya\\miniconda3\\envs\\mn-ocr\\Lib\\site-packages\\IPython\\core\\pylabtools.py:170: UserWarning: Glyph 58113 (\\ue301) missing from font(s) DejaVu Sans.\n",
      "  fig.canvas.print_figure(bytes_io, **kw)\n",
      "c:\\Users\\adiya\\miniconda3\\envs\\mn-ocr\\Lib\\site-packages\\IPython\\core\\pylabtools.py:170: UserWarning: Glyph 58142 (\\ue31e) missing from font(s) DejaVu Sans.\n",
      "  fig.canvas.print_figure(bytes_io, **kw)\n",
      "c:\\Users\\adiya\\miniconda3\\envs\\mn-ocr\\Lib\\site-packages\\IPython\\core\\pylabtools.py:170: UserWarning: Glyph 58054 (\\ue2c6) missing from font(s) DejaVu Sans.\n",
      "  fig.canvas.print_figure(bytes_io, **kw)\n",
      "c:\\Users\\adiya\\miniconda3\\envs\\mn-ocr\\Lib\\site-packages\\IPython\\core\\pylabtools.py:170: UserWarning: Glyph 58002 (\\ue292) missing from font(s) DejaVu Sans.\n",
      "  fig.canvas.print_figure(bytes_io, **kw)\n",
      "c:\\Users\\adiya\\miniconda3\\envs\\mn-ocr\\Lib\\site-packages\\IPython\\core\\pylabtools.py:170: UserWarning: Glyph 58076 (\\ue2dc) missing from font(s) DejaVu Sans.\n",
      "  fig.canvas.print_figure(bytes_io, **kw)\n",
      "c:\\Users\\adiya\\miniconda3\\envs\\mn-ocr\\Lib\\site-packages\\IPython\\core\\pylabtools.py:170: UserWarning: Glyph 57997 (\\ue28d) missing from font(s) DejaVu Sans.\n",
      "  fig.canvas.print_figure(bytes_io, **kw)\n",
      "c:\\Users\\adiya\\miniconda3\\envs\\mn-ocr\\Lib\\site-packages\\IPython\\core\\pylabtools.py:170: UserWarning: Glyph 58149 (\\ue325) missing from font(s) DejaVu Sans.\n",
      "  fig.canvas.print_figure(bytes_io, **kw)\n"
     ]
    },
    {
     "data": {
      "image/png": "[encoded data removed]",
      "text/plain": [
       "<Figure size 1200x600 with 1 Axes>"
      ]
     },
     "metadata": {},
     "output_type": "display_data"
    }
   ],
   "source": [
    "c = plot_character_distribution(\"../../dataset/qa_words\\data.json\")"
   ]
  },
  {
   "cell_type": "code",
   "execution_count": 7,
   "metadata": {},
   "outputs": [],
   "source": [
    "chars, counts = zip(*c.items())"
   ]
  },
  {
   "cell_type": "code",
   "execution_count": null,
   "metadata": {},
   "outputs": [
    {
     "name": "stdout",
     "output_type": "stream",
     "text": [
      "︖\n",
      "ᠹ\n",
      "\n",
      "\n",
      "\n",
      "\n",
      "\n",
      "\n",
      "1\n",
      "2\n",
      "0\n",
      "~\n",
      "\n",
      "\n",
      "\n",
      "\n",
      "\n",
      "？\n",
      "\n",
      "\n",
      "\n",
      "\n",
      "ᠼ\n",
      "\n",
      "\n",
      "\n",
      "\n",
      "\n",
      "\n",
      "\n",
      "\n",
      "\n",
      "\n",
      "\n",
      "\n"
     ]
    }
   ],
   "source": [
    "s=0\n",
    "mi=1000000\n",
    "for i in range(len(counts)):\n",
    "    mi = min(mi, counts[i])\n",
    "    if counts[i]<10:\n",
    "        s+=1\n",
    "        print(chars[i])"
   ]
  },
  {
   "cell_type": "code",
   "execution_count": null,
   "metadata": {},
   "outputs": [
    {
     "data": {
      "text/plain": [
       "1"
      ]
     },
     "execution_count": 13,
     "metadata": {},
     "output_type": "execute_result"
    }
   ],
   "source": [
    "mi\n"
   ]
  }
 ],
 "metadata": {
  "kernelspec": {
   "display_name": "Python (mn-ocr)",
   "language": "python",
   "name": "mn-ocr"
  },
  "language_info": {
   "codemirror_mode": {
    "name": "ipython",
    "version": 3
   },
   "file_extension": ".py",
   "mimetype": "text/x-python",
   "name": "python",
   "nbconvert_exporter": "python",
   "pygments_lexer": "ipython3",
   "version": "3.13.2"
  }
 },
 "nbformat": 4,
 "nbformat_minor": 2
}
