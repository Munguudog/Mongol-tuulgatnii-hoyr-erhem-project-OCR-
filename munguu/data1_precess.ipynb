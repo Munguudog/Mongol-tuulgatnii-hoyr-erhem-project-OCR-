{
 "cells": [
  {
   "cell_type": "code",
   "execution_count": 1,
   "metadata": {},
   "outputs": [],
   "source": [
    "from PyQt5.QtGui import QPainter, QFont, QColor, QFontDatabase, QImage, QFontMetrics\n",
    "from PyQt5.QtWidgets import QApplication\n",
    "import pandas as pd\n",
    "import os\n",
    "import random\n",
    "import re\n",
    "\n",
    "# Initialize the PyQt application\n",
    "app = QApplication([])"
   ]
  },
  {
   "cell_type": "code",
   "execution_count": 2,
   "metadata": {},
   "outputs": [],
   "source": [
    "\n",
    "\n",
    "# List of fonts\n",
    "fonts = [\n",
    "    \"CMDASHITSEDEN5.91.ttf\",\n",
    "    \"MONGOLIANSCRIPT5.91.ttf\",\n",
    "   \n",
    "    \"NotoSansMongolian-Regular.ttf\"\n",
    "]\n",
    "\n",
    "# Function to generate image from text\n",
    "def generate_image(path, word, font=fonts[0], font_size=40):\n",
    "    font_path = f\"../fonts/{font}\"  # Path to the font file\n",
    "    font_id = QFontDatabase.addApplicationFont(font_path)\n",
    "    font_family = QFontDatabase.applicationFontFamilies(font_id)[0]\n",
    "\n",
    "    font_obj = QFont(font_family, font_size)\n",
    "    font_metrics = QFontMetrics(font_obj)\n",
    "    text_width = font_metrics.horizontalAdvance(word)\n",
    "    text_height = font_metrics.height()\n",
    "\n",
    "    padding = 20\n",
    "    image_width = text_width + padding * 2\n",
    "    image_height = text_height + padding * 2\n",
    "\n",
    "    image = QImage(image_width, image_height, QImage.Format_ARGB32)\n",
    "    image.fill(QColor(255, 255, 255))  # White background\n",
    "\n",
    "    painter = QPainter(image)\n",
    "    painter.setFont(font_obj)\n",
    "    painter.setPen(QColor(0, 0, 0))  # Black text\n",
    "    painter.drawText(padding, text_height, word)\n",
    "    painter.end()\n",
    "\n",
    "    image.save(path, \"PNG\")\n",
    "\n",
    "\n"
   ]
  },
  {
   "cell_type": "code",
   "execution_count": 7,
   "metadata": {},
   "outputs": [
    {
     "name": "stdout",
     "output_type": "stream",
     "text": [
      "100 question images and 100 answer images generated and saved in respective folders.\n"
     ]
    }
   ],
   "source": [
    "import pandas as pd\n",
    "import os\n",
    "import random\n",
    "import re\n",
    "\n",
    "# Load CSV file\n",
    "df = pd.read_csv(\"../dataset/mini_qa_images/mini_qa.csv\")  # Adjust this to your CSV path\n",
    "\n",
    "# Create output directories for question and answer images\n",
    "output_dirs = {\"question\": \"question_folder\", \"answer\": \"answer_folder\"}\n",
    "for folder in output_dirs.values():\n",
    "    os.makedirs(folder, exist_ok=True)\n",
    "\n",
    "# Define a regex pattern to match valid alphanumeric words (ignoring special characters)\n",
    "valid_word_pattern = re.compile(r'^[\\w]+$')\n",
    "\n",
    "# Initialize counters for both question and answer images\n",
    "question_images_count = 0\n",
    "answer_images_count = 0\n",
    "max_images = 100  # Max 100 images for both question and answer\n",
    "\n",
    "# Loop through the dataframe and generate images for questions and answers\n",
    "for idx, row in df.iterrows():\n",
    "    if question_images_count >= max_images and answer_images_count >= max_images:\n",
    "        break  # Stop once both question and answer image counts reach 100\n",
    "\n",
    "    # Split question and answer into words\n",
    "    question_words = str(row[\"question\"]).split()\n",
    "    answer_words = str(row[\"answer\"]).split()\n",
    "\n",
    "    # Randomly choose a font from the list for each word\n",
    "    chosen_font = random.choice(fonts)\n",
    "\n",
    "    # Process words in question (limit to 100 images)\n",
    "    for word in question_words:\n",
    "        if question_images_count >= max_images:\n",
    "            break  # Stop if 100 question images are generated\n",
    "\n",
    "        # Filter out special characters using regex\n",
    "        if valid_word_pattern.match(word):\n",
    "            question_image_path = os.path.join(output_dirs[\"question\"], f\"question_{question_images_count}.png\")\n",
    "            generate_image(question_image_path, word, font=chosen_font)\n",
    "            question_images_count += 1\n",
    "\n",
    "    # Process words in answer (limit to 100 images)\n",
    "    for word in answer_words:\n",
    "        if answer_images_count >= max_images:\n",
    "            break  # Stop if 100 answer images are generated\n",
    "\n",
    "        # Filter out special characters using regex\n",
    "        if valid_word_pattern.match(word):\n",
    "            answer_image_path = os.path.join(output_dirs[\"answer\"], f\"answer_{answer_images_count}.png\")\n",
    "            generate_image(answer_image_path, word, font=chosen_font)\n",
    "            answer_images_count += 1\n",
    "\n",
    "print(\"100 question images and 100 answer images generated and saved in respective folders.\")\n"
   ]
  }
 ],
 "metadata": {
  "kernelspec": {
   "display_name": "env",
   "language": "python",
   "name": "python3"
  },
  "language_info": {
   "codemirror_mode": {
    "name": "ipython",
    "version": 3
   },
   "file_extension": ".py",
   "mimetype": "text/x-python",
   "name": "python",
   "nbconvert_exporter": "python",
   "pygments_lexer": "ipython3",
   "version": "3.13.2"
  }
 },
 "nbformat": 4,
 "nbformat_minor": 2
}
