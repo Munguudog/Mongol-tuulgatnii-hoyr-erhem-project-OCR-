{
 "cells": [
  {
   "cell_type": "code",
   "execution_count": 3,
   "metadata": {},
   "outputs": [],
   "source": [
    "from PyQt5.QtGui import QPainter, QFont, QColor, QFontDatabase, QImage, QFontMetrics\n",
    "from PyQt5.QtCore import QRect\n",
    "from PyQt5.QtSvg import QSvgGenerator\n",
    "from PyQt5.QtWidgets import QApplication\n",
    "import pandas as pd\n",
    "\n",
    "app = QApplication([]) # 1 l udaa unshuulahgui bol kernel deer error uguud bsn. ugvul restart hiine\n",
    "\n",
    "fonts = [\n",
    "        \"CMDASHITSEDEN5.91.ttf\",\n",
    "        \"MONGOLIANSCRIPT5.91.ttf\",\n",
    "        \"MONGOLIANSYSTEM0.97.ttg\",\n",
    "        \"NotoSansMongolian-Regular.ttf\"\n",
    "]\n",
    "\n",
    "\n",
    "\n",
    "\n"
   ]
  },
  {
   "cell_type": "code",
   "execution_count": 18,
   "metadata": {},
   "outputs": [],
   "source": [
    "my_fonts = [\n",
    "    '../../mongolian-nlp/image2bichig/fonts/Bichimel.ttf',\n",
    "    '../../mongolian-nlp/image2bichig/fonts/Chagan.ttf',\n",
    "    '../../mongolian-nlp/image2bichig/fonts/Garchag.ttf',\n",
    "    '../../mongolian-nlp/image2bichig/fonts/mnglartotf.ttf',\n",
    "    '../../mongolian-nlp/image2bichig/fonts/mngltitleotf.ttf',\n",
    "    '../../mongolian-nlp/image2bichig/fonts/mnglwhiteotf.ttf',\n",
    "    '../../mongolian-nlp/image2bichig/fonts/mnglwritingotf.ttf',\n",
    "    '../../mongolian-nlp/image2bichig/fonts/NotoSansMongolian-Regular.ttf',\n",
    "    '../../mongolian-nlp/image2bichig/fonts/Syurga.ttf',\n",
    "    '../../mongolian-nlp/image2bichig/fonts/Urga.ttf',\n",
    "    \"../fonts/CMDASHITSEDEN5.91.ttf\",\n",
    "    \"../fonts/MONGOLIANSCRIPT5.91.ttf\",\n",
    "    \"../fonts/MONGOLIANSYSTEM0.97.ttf\",\n",
    "    \"../fonts/NotoSansMongolian-Regular.ttf\"\n",
    "]\n"
   ]
  },
  {
   "cell_type": "code",
   "execution_count": null,
   "metadata": {},
   "outputs": [],
   "source": [
    "def generate_image(path, text, font=fonts[0], font_size = 40):\n",
    "    font_path = f\"../fonts/{font}\"  # Path to the font file\n",
    "    font_id = QFontDatabase.addApplicationFont(font_path)\n",
    "    font_family = QFontDatabase.applicationFontFamilies(font_id)[0]\n",
    "\n",
    "    # Create a QFont object with the loaded font family\n",
    "    font_obj = QFont(font_family, font_size)\n",
    "\n",
    "    # Measure the size of the text using QFontMetrics\n",
    "    font_metrics = QFontMetrics(font_obj)\n",
    "    text_width = font_metrics.horizontalAdvance(text)\n",
    "    text_height = font_metrics.height()\n",
    "\n",
    "    # Add some padding around the text\n",
    "    padding = 20\n",
    "    image_width = text_width + padding * 2\n",
    "    image_height = text_height + padding * 2\n",
    "\n",
    "    # Create the QImage object with the calculated dimensions\n",
    "    image = QImage(image_width, image_height, QImage.Format_ARGB32)\n",
    "    image.fill(QColor(255, 255, 255))  # Set background to white (or transparent)\n",
    "\n",
    "    # Create a painter to draw the text on the image\n",
    "    painter = QPainter(image)\n",
    "    painter.setFont(font_obj)\n",
    "    painter.setPen(QColor(0, 0, 0))  # Set the pen color (black)\n",
    "\n",
    "    # Draw the text, centered in the image\n",
    "    painter.drawText(padding, text_height-padding, text)  # Positioning based on padding\n",
    "    painter.end()\n",
    "\n",
    "    # Save the image as PNG\n",
    "    image.save(path, \"PNG\")"
   ]
  },
  {
   "cell_type": "code",
   "execution_count": 28,
   "metadata": {},
   "outputs": [],
   "source": [
    "path = \"../../dataset/tmp1.png\"\n",
    "generate_image(path, \"ᠮᠣᠨᠭᠭᠣᠯ ᠤᠯᠰ\",fonts[3])"
   ]
  },
  {
   "cell_type": "code",
   "execution_count": 19,
   "metadata": {},
   "outputs": [
    {
     "name": "stdout",
     "output_type": "stream",
     "text": [
      "../../mongolian-nlp/image2bichig/fonts/Bichimel.ttf\n",
      "../../mongolian-nlp/image2bichig/fonts/Chagan.ttf\n",
      "../../mongolian-nlp/image2bichig/fonts/Garchag.ttf\n",
      "../../mongolian-nlp/image2bichig/fonts/mnglartotf.ttf\n",
      "../../mongolian-nlp/image2bichig/fonts/mngltitleotf.ttf\n",
      "../../mongolian-nlp/image2bichig/fonts/mnglwhiteotf.ttf\n",
      "../../mongolian-nlp/image2bichig/fonts/mnglwritingotf.ttf\n",
      "../../mongolian-nlp/image2bichig/fonts/NotoSansMongolian-Regular.ttf\n",
      "../../mongolian-nlp/image2bichig/fonts/Syurga.ttf\n",
      "../../mongolian-nlp/image2bichig/fonts/Urga.ttf\n",
      "../fonts/CMDASHITSEDEN5.91.ttf\n",
      "../fonts/MONGOLIANSCRIPT5.91.ttf\n",
      "../fonts/MONGOLIANSYSTEM0.97.ttf\n",
      "../fonts/NotoSansMongolian-Regular.ttf\n"
     ]
    }
   ],
   "source": [
    "\n",
    "def generate_comparison_image(path, text, fonts, font_size=40, padding=20):\n",
    "    \"\"\"\n",
    "    Generate an image displaying the given text in multiple fonts for comparison.\n",
    "\n",
    "    :param path: Path to save the generated image.\n",
    "    :param text: Text to render.\n",
    "    :param fonts: List of font file names.\n",
    "    :param font_size: Font size.\n",
    "    :param padding: Padding around each text row.\n",
    "    \"\"\"\n",
    "    # Load fonts and measure text dimensions\n",
    "    font_data = []\n",
    "    max_width = 0\n",
    "    row_height = 0\n",
    "\n",
    "    for font in fonts:\n",
    "        font_path = font\n",
    "        print(font_path)\n",
    "        font_id = QFontDatabase.addApplicationFont(font_path)\n",
    "        font_family = QFontDatabase.applicationFontFamilies(font_id)[0]\n",
    "\n",
    "        font_obj = QFont(font_family, font_size)\n",
    "        font_metrics = QFontMetrics(font_obj)\n",
    "\n",
    "        text_width = font_metrics.horizontalAdvance(text)\n",
    "        text_height = font_metrics.height()\n",
    "\n",
    "        max_width = max(max_width, text_width)\n",
    "        row_height = max(row_height, text_height + padding * 2)  # Ensure consistent row height\n",
    "\n",
    "        font_data.append((font_obj, font_family))\n",
    "\n",
    "    # Calculate final image dimensions\n",
    "    image_width = max_width + padding * 2\n",
    "    image_height = row_height * len(fonts)  # Each font gets one row\n",
    "\n",
    "    # Create the final image\n",
    "    image = QImage(image_width, image_height, QImage.Format_ARGB32)\n",
    "    image.fill(QColor(255, 255, 255))  # White background\n",
    "\n",
    "    painter = QPainter(image)\n",
    "    painter.setPen(QColor(0, 0, 0))  # Black text\n",
    "\n",
    "    # Draw text in each font\n",
    "    for i, (font_obj, font_family) in enumerate(font_data):\n",
    "        y_position = i * row_height + (row_height // 2)  # Center text in row\n",
    "        painter.setFont(font_obj)\n",
    "        painter.drawText(padding, y_position, text)  # Left-aligned with padding\n",
    "\n",
    "    painter.end()\n",
    "    \n",
    "    # Save the final image\n",
    "    image.save(path, \"PNG\")\n",
    "\n",
    "# Example usage\n",
    "generate_comparison_image(\"output.png\", \"ᠤᠲᠠᠰᠤ ᠴᠢᠨᠢ ᠰᠦᠢᠷᠡᠴᠢᠬᠡᠪᠡ\", my_fonts)\n"
   ]
  },
  {
   "cell_type": "code",
   "execution_count": 46,
   "metadata": {},
   "outputs": [],
   "source": [
    "df = pd.read_csv(\"../dataset/mini_qa.csv\")"
   ]
  },
  {
   "cell_type": "code",
   "execution_count": 50,
   "metadata": {},
   "outputs": [
    {
     "name": "stdout",
     "output_type": "stream",
     "text": [
      "0 out of 100\n",
      "10 out of 100\n",
      "20 out of 100\n",
      "30 out of 100\n",
      "40 out of 100\n",
      "50 out of 100\n",
      "60 out of 100\n",
      "70 out of 100\n",
      "80 out of 100\n",
      "90 out of 100\n"
     ]
    }
   ],
   "source": [
    "s=0\n",
    "for index, row in df.iterrows():\n",
    "    if(index%10==0):\n",
    "        print(f\"{index} out of 100\")\n",
    "    text = row['question']\n",
    "    path = path = f\"../dataset/mini_qa_images/question/{index}.png\"\n",
    "    generate_image(path, text, fonts[3])\n",
    "    text = row['answer']\n",
    "    path = path = f\"../dataset/mini_qa_images/answer/{index}.png\"\n",
    "    generate_image(path, text, fonts[3])\n"
   ]
  },
  {
   "cell_type": "code",
   "execution_count": 43,
   "metadata": {},
   "outputs": [],
   "source": [
    "# df.columns = [\"question\", \"answer\"]\n",
    "mini = df.head(100)"
   ]
  },
  {
   "cell_type": "code",
   "execution_count": 44,
   "metadata": {},
   "outputs": [],
   "source": [
    "mini.to_csv(\"../dataset/mini_qa.csv\")"
   ]
  },
  {
   "cell_type": "code",
   "execution_count": null,
   "metadata": {},
   "outputs": [],
   "source": [
    "ᠭᠠᠷ ᠤᠲᠠᠰᠤ ᠴᠢᠨᠢ ᠰᠦᠢᠷᠡᠴᠢᠬᠡᠪᠡ ᠦᠦ ︖\n",
    "ᠪᠢᠳᠡ ᠶᠠᠭᠤᠨ ᠤ ᠤᠴᠢᠷ ᠠᠴᠠ ᠠᠮᠢᠳᠤᠷᠠᠵᠤ ᠪᠠᠢᠬᠤ ᠪᠤᠶ ?"
   ]
  },
  {
   "cell_type": "code",
   "execution_count": null,
   "metadata": {},
   "outputs": [],
   "source": [
    "df.to_csv()"
   ]
  }
 ],
 "metadata": {
  "kernelspec": {
   "display_name": "ocr",
   "language": "python",
   "name": "python3"
  },
  "language_info": {
   "codemirror_mode": {
    "name": "ipython",
    "version": 3
   },
   "file_extension": ".py",
   "mimetype": "text/x-python",
   "name": "python",
   "nbconvert_exporter": "python",
   "pygments_lexer": "ipython3",
   "version": "3.13.2"
  }
 },
 "nbformat": 4,
 "nbformat_minor": 2
}
