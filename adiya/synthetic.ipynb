{
 "cells": [
  {
   "cell_type": "code",
   "execution_count": null,
   "metadata": {},
   "outputs": [],
   "source": [
    "from PyQt5.QtGui import QPainter, QFont, QColor, QFontDatabase, QImage, QFontMetrics\n",
    "from PyQt5.QtCore import QRect\n",
    "from PyQt5.QtSvg import QSvgGenerator\n",
    "from PyQt5.QtWidgets import QApplication\n",
    "import pandas as pd\n",
    "\n",
    "app = QApplication([]) # 1 l udaa unshuulahgui bol kernel deer error uguud bsn. ugvul restart hiine\n",
    "\n",
    "fonts = [\"CMDASHITSEDEN5.91.ttf\",\n",
    "         \"MONGOLIANSCRIPT5.91.ttf\",\n",
    "         \"MONGOLIANSYSTEM0.97.ttg\",\n",
    "         \"NotoSansMongolian-Regular.ttf\"\n",
    "]\n",
    "\n",
    "\n",
    "\n",
    "\n"
   ]
  },
  {
   "cell_type": "code",
   "execution_count": null,
   "metadata": {},
   "outputs": [],
   "source": [
    "def generate_image(path, text, font=fonts[0], font_size = 40):\n",
    "    font_path = f\"../fonts/{font}\"  # Path to the font file\n",
    "    font_id = QFontDatabase.addApplicationFont(font_path)\n",
    "    font_family = QFontDatabase.applicationFontFamilies(font_id)[0]\n",
    "\n",
    "    # Create a QFont object with the loaded font family\n",
    "    font_obj = QFont(font_family, font_size)\n",
    "\n",
    "    # Measure the size of the text using QFontMetrics\n",
    "    font_metrics = QFontMetrics(font_obj)\n",
    "    text_width = font_metrics.horizontalAdvance(text)\n",
    "    text_height = font_metrics.height()\n",
    "\n",
    "    # Add some padding around the text\n",
    "    padding = 20\n",
    "    image_width = text_width + padding * 2\n",
    "    image_height = text_height + padding * 2\n",
    "\n",
    "    # Create the QImage object with the calculated dimensions\n",
    "    image = QImage(image_width, image_height, QImage.Format_ARGB32)\n",
    "    image.fill(QColor(255, 255, 255))  # Set background to white (or transparent)\n",
    "\n",
    "    # Create a painter to draw the text on the image\n",
    "    painter = QPainter(image)\n",
    "    painter.setFont(font_obj)\n",
    "    painter.setPen(QColor(0, 0, 0))  # Set the pen color (black)\n",
    "\n",
    "    # Draw the text, centered in the image\n",
    "    painter.drawText(padding, text_height-padding, text)  # Positioning based on padding\n",
    "    painter.end()\n",
    "\n",
    "    # Save the image as PNG\n",
    "    image.save(path, \"PNG\")"
   ]
  },
  {
   "cell_type": "code",
   "execution_count": 28,
   "metadata": {},
   "outputs": [],
   "source": [
    "path = \"../../dataset/tmp1.png\"\n",
    "generate_image(path, \"ᠮᠣᠨᠭᠭᠣᠯ ᠤᠯᠰ\",fonts[3])"
   ]
  },
  {
   "cell_type": "code",
   "execution_count": 46,
   "metadata": {},
   "outputs": [],
   "source": [
    "df = pd.read_csv(\"../dataset/mini_qa.csv\")"
   ]
  },
  {
   "cell_type": "code",
   "execution_count": 50,
   "metadata": {},
   "outputs": [
    {
     "name": "stdout",
     "output_type": "stream",
     "text": [
      "0 out of 100\n",
      "10 out of 100\n",
      "20 out of 100\n",
      "30 out of 100\n",
      "40 out of 100\n",
      "50 out of 100\n",
      "60 out of 100\n",
      "70 out of 100\n",
      "80 out of 100\n",
      "90 out of 100\n"
     ]
    }
   ],
   "source": [
    "s=0\n",
    "for index, row in df.iterrows():\n",
    "    if(index%10==0):\n",
    "        print(f\"{index} out of 100\")\n",
    "    text = row['question']\n",
    "    path = path = f\"../dataset/mini_qa_images/question/{index}.png\"\n",
    "    generate_image(path, text, fonts[3])\n",
    "    text = row['answer']\n",
    "    path = path = f\"../dataset/mini_qa_images/answer/{index}.png\"\n",
    "    generate_image(path, text, fonts[3])\n"
   ]
  },
  {
   "cell_type": "code",
   "execution_count": 43,
   "metadata": {},
   "outputs": [],
   "source": [
    "# df.columns = [\"question\", \"answer\"]\n",
    "mini = df.head(100)"
   ]
  },
  {
   "cell_type": "code",
   "execution_count": 44,
   "metadata": {},
   "outputs": [],
   "source": [
    "mini.to_csv(\"../dataset/mini_qa.csv\")"
   ]
  },
  {
   "cell_type": "code",
   "execution_count": null,
   "metadata": {},
   "outputs": [],
   "source": [
    "ᠭᠠᠷ ᠤᠲᠠᠰᠤ ᠴᠢᠨᠢ ᠰᠦᠢᠷᠡᠴᠢᠬᠡᠪᠡ ᠦᠦ ︖\n",
    "ᠪᠢᠳᠡ ᠶᠠᠭᠤᠨ ᠤ ᠤᠴᠢᠷ ᠠᠴᠠ ᠠᠮᠢᠳᠤᠷᠠᠵᠤ ᠪᠠᠢᠬᠤ ᠪᠤᠶ ?"
   ]
  },
  {
   "cell_type": "code",
   "execution_count": null,
   "metadata": {},
   "outputs": [],
   "source": [
    "df.to_csv()"
   ]
  }
 ],
 "metadata": {
  "kernelspec": {
   "display_name": "Python (mn-ocr)",
   "language": "python",
   "name": "mn-ocr"
  },
  "language_info": {
   "codemirror_mode": {
    "name": "ipython",
    "version": 3
   },
   "file_extension": ".py",
   "mimetype": "text/x-python",
   "name": "python",
   "nbconvert_exporter": "python",
   "pygments_lexer": "ipython3",
   "version": "3.13.2"
  }
 },
 "nbformat": 4,
 "nbformat_minor": 2
}
