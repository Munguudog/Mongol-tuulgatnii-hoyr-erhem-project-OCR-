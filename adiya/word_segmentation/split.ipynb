{
 "cells": [
  {
   "cell_type": "code",
   "execution_count": 21,
   "id": "1fc40965",
   "metadata": {},
   "outputs": [],
   "source": [
    "import cv2\n",
    "import numpy as np\n",
    "import matplotlib.pyplot as plt\n",
    "import os\n",
    "from PIL import Image # Sometimes useful with pytesseract\n"
   ]
  },
  {
   "cell_type": "code",
   "execution_count": 24,
   "id": "2f9432c9",
   "metadata": {},
   "outputs": [],
   "source": [
    "def display_image(img, title=\"Image\", cmap=None, figsize=(10, 10)):\n",
    "    \"\"\"Displays an image using matplotlib.\"\"\"\n",
    "    plt.figure(figsize=figsize)\n",
    "    if cmap:\n",
    "        plt.imshow(img, cmap=cmap)\n",
    "    else:\n",
    "        # Convert BGR (OpenCV default) to RGB for matplotlib\n",
    "        if len(img.shape) == 3:\n",
    "            plt.imshow(cv2.cvtColor(img, cv2.COLOR_BGR2RGB))\n",
    "        else:\n",
    "            plt.imshow(img, cmap='gray') # Keep grayscale if it's already gray\n",
    "    plt.title(title)\n",
    "    plt.axis('off')\n",
    "    plt.show()\n",
    "\n",
    "def draw_boxes(image, boxes, color=(0, 255, 0), thickness=2):\n",
    "    \"\"\"Draws bounding boxes on a copy of the image.\"\"\"\n",
    "    output_image = image.copy()\n",
    "    for (x, y, w, h) in boxes:\n",
    "        cv2.rectangle(output_image, (x, y), (x + w, y + h), color, thickness)\n",
    "    return output_image"
   ]
  }
 ],
 "metadata": {
  "kernelspec": {
   "display_name": "mnocr",
   "language": "python",
   "name": "python3"
  },
  "language_info": {
   "codemirror_mode": {
    "name": "ipython",
    "version": 3
   },
   "file_extension": ".py",
   "mimetype": "text/x-python",
   "name": "python",
   "nbconvert_exporter": "python",
   "pygments_lexer": "ipython3",
   "version": "3.10.16"
  }
 },
 "nbformat": 4,
 "nbformat_minor": 5
}
